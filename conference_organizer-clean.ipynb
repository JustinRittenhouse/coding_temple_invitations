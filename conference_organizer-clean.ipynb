{
 "cells": [
  {
   "cell_type": "markdown",
   "metadata": {
    "id": "jxjdJzd5uQ1c"
   },
   "source": [
    "Simply put, your main objective for this coding challenge is to send an API request to a server, get the data, then build a solution after getting the data."
   ]
  },
  {
   "cell_type": "markdown",
   "metadata": {
    "id": "aqQVV5weuQ1i"
   },
   "source": [
    "Here's the server address: https://ct-mock-tech-assessment.herokuapp.com/<br>"
   ]
  },
  {
   "cell_type": "markdown",
   "metadata": {
    "id": "4itWjMYFuQ1l"
   },
   "source": [
    "The data is a collection of partners who need to attend meetings within their respective countries. For each partner you will find first and last names, email addresses, country locations and dates of availability."
   ]
  },
  {
   "cell_type": "markdown",
   "metadata": {
    "id": "xt5DsSDBuQ1m"
   },
   "source": [
    "Your job is to  build an invitation list based on the data. An example solution would look like the following. Keep in mind this is an example and not the real solution."
   ]
  },
  {
   "cell_type": "markdown",
   "metadata": {
    "id": "H9hY3aKQuQ1m"
   },
   "source": [
    "<strong>THE FOLLOWING IS `ONLY` AN EXAMPLE.</strong>"
   ]
  },
  {
   "cell_type": "code",
   "execution_count": null,
   "metadata": {
    "id": "F5if2DavuQ1n"
   },
   "outputs": [],
   "source": [
    "# [   {   'attendeeCount': 12,\n",
    "#         'attendees': [   'rketring@codingtemple.com',\n",
    "#                          'mlacau@codingtemple.com',\n",
    "#                          'eomersa@codingtemple.com',\n",
    "#                          'ssheahan@codingtemple.com',\n",
    "#                          'msoult@codingtemple.com',\n",
    "#                          'bwatton@codingtemple.com',\n",
    "#                          'afernadez@codingtemple.com',\n",
    "#                          'mmottern@codingtemple.com',\n",
    "#                          'pdougherty@codingtemple.com',\n",
    "#                          'sbeemon@codingtemple.com',\n",
    "#                          'mvirgel@codingtemple.com',\n",
    "#                          'hpolitte@codingtemple.com'],\n",
    "#         'name': 'United States',\n",
    "#         'startDate': '2017-06-01'},\n",
    "#     {   'attendeeCount': 12,\n",
    "#         'attendees': [   'sterrence@codingtemple.com',\n",
    "#                          'dpatnode@codingtemple.com',\n",
    "#                          'pbertog@codingtemple.com',\n",
    "#                          'rguldemond@codingtemple.com',\n",
    "#                          'rfarlee@codingtemple.com',\n",
    "#                          'mclawson@codingtemple.com',\n",
    "#                          'mbottenfield@codingtemple.com',\n",
    "#                          'akulju@codingtemple.com',\n",
    "#                          'cscoby@codingtemple.com',\n",
    "#                          'dsiebenthal@codingtemple.com',\n",
    "#                          'mcrossen@codingtemple.com',\n",
    "#                          'mkimble@codingtemple.com'],\n",
    "#         'name': 'Ireland',\n",
    "#         'startDate': '2017-06-04'},\n",
    "#     {   'attendeeCount': 14,\n",
    "#         'attendees': [   'oduttinger@codingtemple.com',\n",
    "#                          'tzavesky@codingtemple.com',\n",
    "#                          'alyme@codingtemple.com',\n",
    "#                          'aferkovich@codingtemple.com',\n",
    "#                          'cbrookhouse@codingtemple.com',\n",
    "#                          'mselk@codingtemple.com',\n",
    "#                          'amacneil@codingtemple.com',\n",
    "#                          'jplants@codingtemple.com',\n",
    "#                          'devora@codingtemple.com',\n",
    "#                          'bcustis@codingtemple.com',\n",
    "#                          'labbot@codingtemple.com',\n",
    "#                          'civery@codingtemple.com',\n",
    "#                          'jfavieri@codingtemple.com',\n",
    "#                          'anickless@codingtemple.com'],\n",
    "#         'name': 'Spain',\n",
    "#         'startDate': '2017-05-03'},\n",
    "#     {   'attendeeCount': 3,\n",
    "#         'attendees': [   'ltoepperwein@codingtemple.com',\n",
    "#                          'olavine@codingtemple.com',\n",
    "#                          'ksinitiere@codingtemple.com'],\n",
    "#         'name': 'Mexico',\n",
    "#         'startDate': '2017-05-03'},\n",
    "#     {   'attendeeCount': 3,\n",
    "#         'attendees': [   'abending@codingtemple.com',\n",
    "#                          'agewant@codingtemple.com',\n",
    "#                          'mboyarski@codingtemple.com'],\n",
    "#         'name': 'Canada',\n",
    "#         'startDate': '2017-07-02'},\n",
    "#     {   'attendeeCount': None,\n",
    "#         'attendees': [],\n",
    "#         'name': 'Singapore',\n",
    "#         'startDate': '2017-06-15'},\n",
    "#     {   'attendeeCount': None,\n",
    "#         'attendees': [],\n",
    "#         'name': 'Japan',\n",
    "#         'startDate': '2017-06-27'},\n",
    "#     {   'attendeeCount': 16,\n",
    "#         'attendees': [   'arosentrater@codingtemple.com',\n",
    "#                          'jgoettsche@codingtemple.com',\n",
    "#                          'nbehal@codingtemple.com',\n",
    "#                          'bkilcher@codingtemple.com',\n",
    "#                          'ostutler@codingtemple.com',\n",
    "#                          'emaohu@codingtemple.com',\n",
    "#                          'jbattistoni@codingtemple.com',\n",
    "#                          'ccoryea@codingtemple.com',\n",
    "#                          'gcintron@codingtemple.com',\n",
    "#                          'scorlett@codingtemple.com',\n",
    "#                          'dallocca@codingtemple.com',\n",
    "#                          'dneedler@codingtemple.com',\n",
    "#                          'lsachez@codingtemple.com',\n",
    "#                          'sszabo@codingtemple.com',\n",
    "#                          'smaleck@codingtemple.com',\n",
    "#                          'jholtrop@codingtemple.com'],\n",
    "#         'name': 'United Kingdom',\n",
    "#         'startDate': '2017-06-05'},\n",
    "#     {   'attendeeCount': 5,\n",
    "#         'attendees': [   'bdurke@codingtemple.com',\n",
    "#                          'jtopp@codingtemple.com',\n",
    "#                          'tpinela@codingtemple.com',\n",
    "#                          'jdefore@codingtemple.com',\n",
    "#                          'jmacareno@codingtemple.com'],\n",
    "#         'name': 'France',\n",
    "#         'startDate': '2017-06-18'}]"
   ]
  },
  {
   "cell_type": "markdown",
   "metadata": {
    "id": "FDd9SsXkuQ1r"
   },
   "source": [
    "For each partner, you need to categorize them according to the country in which they must attend the meeting. Find a way to determine which availability dates work best for everyone in EACH country. If a date doesn't work for a specific partner, they simply will not be able to attend the meeting. \n",
    "\n",
    "<strong>The kicker</strong>: this meeting will last a total of two days. Because of this, you must find a RANGE of two dates that work best for everyone. For whichever two days work the best, only display the first date everyone can start.\n",
    "\n",
    "<strong>When you've finished, send a POST request to the same API (Google how to do this!!!). You MUST send the data back to the server in the form a DICTIONARY with a key of 'data'. Otherwise you will get an error. Once you make the request, look through some of the requests object's attributes to see if you get a server response code of 200. If you do, you were successful in building your solution. Otherwise, hit the drawing board and try again!</strong>"
   ]
  },
  {
   "cell_type": "code",
   "execution_count": null,
   "metadata": {},
   "outputs": [],
   "source": [
    "# For this technical interview, I was given 3 hours to complete it"
   ]
  },
  {
   "cell_type": "code",
   "execution_count": 4,
   "metadata": {},
   "outputs": [
    {
     "name": "stdout",
     "output_type": "stream",
     "text": [
      "<Response [400]>\n"
     ]
    }
   ],
   "source": [
    "import requests\n",
    "import statistics\n",
    "\n",
    "api_link = f'https://ct-mock-tech-assessment.herokuapp.com/'\n",
    "raw_data = requests.get(api_link).json()\n",
    "\n",
    "# for partner in data['partners']:\n",
    "#     print(partner)\n",
    "\n",
    "days_in_month = {\n",
    "    '01': 31,\n",
    "    '02': 28,\n",
    "    '03': 31,\n",
    "    '04': 30,\n",
    "    '05': 31,\n",
    "    '06': 30,\n",
    "    '07': 31,\n",
    "    '08': 31,\n",
    "    '09': 30,\n",
    "    '10': 31,\n",
    "    '11': 30,\n",
    "    '12': 31\n",
    "}\n",
    "\n",
    "class Country:\n",
    "    def __init__(self, country_name, meeting_date = None, partners = None, attending_count = 0):\n",
    "        self.country_name = country_name\n",
    "        self.partners = [] if partners == None else partners\n",
    "        self.attending_count = attending_count\n",
    "    \n",
    "    # def get_partners(self): ### This used to be the name of the function, but it was more efficient to have it in the init\n",
    "                              ### This defines each partner.\n",
    "        for partner in raw_data['partners']:\n",
    "            if partner['country'] == self.country_name:\n",
    "                ### Made a list of available dates.\n",
    "                a_d = []\n",
    "                for date in partner['availableDates']:\n",
    "                    a_d.append(date)\n",
    "                p = Partner(\n",
    "                    first_name = partner['firstName'],\n",
    "                    last_name = partner['lastName'],\n",
    "                    country = self.country_name,\n",
    "                    email = partner['email'],\n",
    "                    available_dates= a_d\n",
    "                )\n",
    "                self.partners.append(p)\n",
    "\n",
    "        ### This function adds up every date that people can go two days in a row for each person.\n",
    "        ### Then the mode returns the most common starting date.\n",
    "        workable_dates = []\n",
    "        for partner in self.partners:\n",
    "            for date in partner.available_dates:\n",
    "                if self.date_after(date) in partner.available_dates:\n",
    "                    workable_dates.append(date)\n",
    "        self.meeting_date =  statistics.mode(workable_dates)\n",
    "\n",
    "        ### This function counts how many partners can make it to the meeting, and changes their value to True if so.\n",
    "        for partner in self.partners:\n",
    "            if self.meeting_date in partner.available_dates and self.date_after(self.meeting_date) in partner.available_dates:\n",
    "                partner.availability = True\n",
    "                self.attending_count += 1\n",
    "\n",
    "    \n",
    "    ### This function is JUST to determine the date after, even if it's in the next month. The days_in_month towards the top is for this.\n",
    "    def date_after(self, date1):\n",
    "        if date1[8:] != days_in_month[date1[5:7]]:\n",
    "            day = str(int(date1[8:]) + 1)\n",
    "            if int(day) < 10:\n",
    "                day = '0' + day\n",
    "            return date1[0:8] + day\n",
    "        elif date1[8:] == days_in_month[date1[5:7]]:\n",
    "            month = str(int(date1[5:7]) + 1)\n",
    "            if int(month) < 10:\n",
    "                month = '0' + month\n",
    "            return date1[0:5] + month + '-01'\n",
    "\n",
    "    ### Once more, I found this more helpful to be in the init.\n",
    "    # def find_date(self):\n",
    "    #     workable_dates = []\n",
    "    #     for partner in self.partners:\n",
    "    #         for date in partner.available_dates:\n",
    "    #             if self.date_after(date) in partner.available_dates:\n",
    "    #                 workable_dates.append(date)\n",
    "    #     self.meeting_date =  statistics.mode(workable_dates)\n",
    "\n",
    "class Partner:\n",
    "    def __init__(self, first_name, last_name, country, email, available_dates = None, availability = False):\n",
    "        self.first_name = first_name\n",
    "        self.last_name = last_name\n",
    "        self.country = country\n",
    "        self.email = email\n",
    "        self.available_dates = [] if available_dates == None else available_dates\n",
    "        self.availability = availability\n",
    "\n",
    "class Program():\n",
    "    @classmethod\n",
    "    def run(self):\n",
    "\n",
    "        ### This makes a set of all of the countries present in the data.\n",
    "        all_countries = set()\n",
    "        for partner in raw_data['partners']:\n",
    "            all_countries.add(partner['country'])\n",
    "\n",
    "        ### This takes the set of country-name-strings and turns them into variables and defines them as a Country object.\n",
    "        countries = []\n",
    "        for country in all_countries:\n",
    "            ### I got the following from DelftStack. This allows the country strings to be the names of variables to assign classes to.\n",
    "            ### The .replace(' ', '_') I figured out myself because you can't have spaces in variable names.\n",
    "            globals()[country.replace(' ', '_')] = Country(country_name=country)\n",
    "            countries.append(globals()[country.replace(' ', '_')])\n",
    "\n",
    "        ### This is how I both get the information for the partners, and group them by country.\n",
    "        ### I cut this out because I just put the get_partners function in the init\n",
    "        # for country in countries:\n",
    "        #     country.get_partners()\n",
    "\n",
    "        ### HOLY COW!!! THIS WORKS?!?!?!?!?! globals() is my new favorite thing!!!\n",
    "        # print(United_States.partners[0].first_name)\n",
    "        # print(Canada.attending_count)\n",
    "\n",
    "        API = {}\n",
    "        API['data'] = {}\n",
    "        for country in countries:\n",
    "            API['data'][country.country_name] = {\n",
    "                'starting date': country.meeting_date,\n",
    "                'attendees': [],\n",
    "                'number of attendees': country.attending_count\n",
    "            }\n",
    "            for partner in country.partners:\n",
    "                if partner.availability == True:\n",
    "                    a = {\n",
    "                        'name': partner.first_name + ' ' + partner.last_name,\n",
    "                        'email': partner.email\n",
    "                    }\n",
    "                    API['data'][country.country_name]['attendees'].append(a)\n",
    "        API_post = requests.post(api_link, data=API)\n",
    "        print(API_post)\n",
    "\n",
    "\n",
    "Program.run()"
   ]
  }
 ],
 "metadata": {
  "colab": {
   "name": "conference_organizer-clean.ipynb",
   "provenance": []
  },
  "kernelspec": {
   "display_name": "Python 3 (ipykernel)",
   "language": "python",
   "name": "python3"
  },
  "language_info": {
   "codemirror_mode": {
    "name": "ipython",
    "version": 3
   },
   "file_extension": ".py",
   "mimetype": "text/x-python",
   "name": "python",
   "nbconvert_exporter": "python",
   "pygments_lexer": "ipython3",
   "version": "3.9.7"
  }
 },
 "nbformat": 4,
 "nbformat_minor": 1
}
